{
 "cells": [
  {
   "cell_type": "markdown",
   "metadata": {},
   "source": [
    "# Prediction\n",
    "\n",
    "Notebook with code for predicting using a trained model. Idea is to load a trained model (from a pkl file) and apply the model to the given (predict) dataset. "
   ]
  },
  {
   "cell_type": "code",
   "execution_count": null,
   "metadata": {},
   "outputs": [],
   "source": [
    "# Add titanic library to path.\n",
    "from pathlib import Path\n",
    "import sys\n",
    "\n",
    "lib_path = str(Path('').absolute().parent)\n",
    "if lib_path not in sys.path:\n",
    "    sys.path.append(lib_path)"
   ]
  },
  {
   "cell_type": "code",
   "execution_count": null,
   "metadata": {},
   "outputs": [],
   "source": [
    "import pandas as pd\n",
    "\n",
    "import joblib \n",
    "\n",
    "from titanic.features import preprocess\n",
    "\n",
    "# Define input/model paths.\n",
    "input_path = Path(\"../data/predict.csv\")\n",
    "model_path = Path(\"../outputs/model.pkl\")\n",
    "output_path = Path(\"../outputs/predictions.csv\")\n",
    "\n",
    "# Read dataset and load model.\n",
    "dataset = pd.read_csv(input_path)\n",
    "model = joblib.load(model_path)\n",
    "\n",
    "X_predict = preprocess(dataset)\n",
    "\n",
    "# Produce predictions.\n",
    "predictions = model.predict(X_predict)\n",
    "predictions_df = pd.DataFrame({\"prediction\": predictions})\n",
    "\n",
    "# Write output.\n",
    "output_path.parent.mkdir(parents=True, exist_ok=True)\n",
    "predictions_df.to_csv(output_path)"
   ]
  },
  {
   "cell_type": "code",
   "execution_count": null,
   "metadata": {},
   "outputs": [],
   "source": []
  }
 ],
 "metadata": {
  "kernelspec": {
   "display_name": "Python 3.8.3 64-bit ('gdd-ahold-prd-ready-ml': conda)",
   "language": "python",
   "name": "python38364bitgddaholdprdreadymlcondac27395059cda46aa8fc571f3ec62c969"
  },
  "language_info": {
   "codemirror_mode": {
    "name": "ipython",
    "version": 3
   },
   "file_extension": ".py",
   "mimetype": "text/x-python",
   "name": "python",
   "nbconvert_exporter": "python",
   "pygments_lexer": "ipython3",
   "version": "3.8.3"
  }
 },
 "nbformat": 4,
 "nbformat_minor": 4
}
