{
 "cells": [
  {
   "cell_type": "markdown",
   "metadata": {},
   "source": [
    "# Model evaluation\n",
    "\n",
    "Notebook with code for evaluating the model. Idea is to evaluate the trained model on a validation dataset using the *evaluate* method, which produces some statistics that state how well the model performs on the given validation dataset."
   ]
  },
  {
   "cell_type": "code",
   "execution_count": null,
   "metadata": {},
   "outputs": [],
   "source": [
    "# Add titanic library to path.\n",
    "from pathlib import Path\n",
    "import sys\n",
    "\n",
    "lib_path = str(Path('').absolute().parent)\n",
    "if lib_path not in sys.path:\n",
    "    sys.path.append(lib_path)"
   ]
  },
  {
   "cell_type": "code",
   "execution_count": null,
   "metadata": {},
   "outputs": [],
   "source": [
    "from pathlib import Path\n",
    "\n",
    "import joblib import joblib \n",
    "import pandas as pd\n",
    "from sklearn import metrics\n",
    "from sklearn.model_selection import cross_validate\n",
    " \n",
    "from titanic.features import preprocess\n",
    "\n",
    "\n",
    "# Define input/model paths.\n",
    "input_path = Path(\"../data/validation.csv\")\n",
    "model_path = Path(\"../outputs/model.pkl\")\n",
    "\n",
    "# Load dataset.\n",
    "dataset = pd.read_csv(input_path)\n",
    "\n",
    "X_eval = preprocess(dataset.drop(\"Survived\", axis=1))\n",
    "y_eval = dataset[\"Survived\"]\n",
    "\n",
    "# Load model.\n",
    "model = joblib.load(model_path)\n",
    " \n",
    "# Calculate metrics.\n",
    "scorer = metrics.make_scorer(metrics.mean_squared_error)\n",
    "cv_results = cross_validate(model, X=X_eval, y=y_eval, scoring=scorer, cv=5)\n",
    "\n",
    "metrics = {\"mse\": cv_results[\"test_score\"].mean()}\n",
    "print(metrics)"
   ]
  }
 ],
 "metadata": {
  "kernelspec": {
   "display_name": "Python 3.8.3 64-bit ('gdd-ahold-prd-ready-ml': conda)",
   "language": "python",
   "name": "python38364bitgddaholdprdreadymlcondac27395059cda46aa8fc571f3ec62c969"
  },
  "language_info": {
   "codemirror_mode": {
    "name": "ipython",
    "version": 3
   },
   "file_extension": ".py",
   "mimetype": "text/x-python",
   "name": "python",
   "nbconvert_exporter": "python",
   "pygments_lexer": "ipython3",
   "version": "3.8.3"
  }
 },
 "nbformat": 4,
 "nbformat_minor": 4
}
